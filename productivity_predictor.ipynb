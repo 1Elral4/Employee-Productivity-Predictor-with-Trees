{
 "cells": [
  {
   "cell_type": "markdown",
   "metadata": {},
   "source": [
    "# Productivity Predictor"
   ]
  },
  {
   "cell_type": "markdown",
   "metadata": {},
   "source": [
    "## Goal"
   ]
  },
  {
   "cell_type": "markdown",
   "metadata": {},
   "source": [
    "Productivity Prediction of Garment Employees"
   ]
  },
  {
   "cell_type": "markdown",
   "metadata": {},
   "source": [
    "## Data"
   ]
  },
  {
   "cell_type": "markdown",
   "metadata": {},
   "source": [
    "We will use the [Productivity Prediction of Garment Employees](https://archive.ics.uci.edu/dataset/597/productivity+prediction+of+garment+employees) set from the UCI Machine Learning Repository. "
   ]
  },
  {
   "cell_type": "markdown",
   "metadata": {},
   "source": [
    "- **date**\t\t\t:\tDate in MM-DD-YYYY\n",
    "- **day**\t\t\t:\tDay of the Week\n",
    "- **quarter**\t\t\t:\tA portion of the month. A month was divided into four quarters\n",
    "- **department**\t\t:\tAssociated department with the instance\n",
    "- **team_no**\t\t\t:\tAssociated team number with the instance\n",
    "- **no_of_workers**\t\t:\tNumber of workers in each team\n",
    "- **no_of_style_change**\t:\tNumber of changes in the style of a particular product\n",
    "- **targeted_productivity**\t:\tTargeted productivity set by the Authority for each team for each day.\n",
    "- **smv**\t\t\t:\tStandard Minute Value, it is the allocated time for a task\n",
    "- **wip**\t\t\t:\tWork in progress. Includes the number of unfinished items for products\n",
    "- **over_time**\t\t:\tRepresents the amount of overtime by each team in minutes\n",
    "- **incentive**\t\t:\tRepresents the amount of financial incentive (in BDT) that enables or motivates a particular course of action.\n",
    "- **idle_time**\t\t:\tThe amount of time when the production was interrupted due to several reasons\n",
    "- **idle_men**\t\t:\tThe number of workers who were idle due to production interruption\n",
    "- **actual_productivity**\t:\tThe actual % of productivity that was delivered by the workers. It ranges from 0-1."
   ]
  },
  {
   "cell_type": "markdown",
   "metadata": {},
   "source": [
    "The data can be used to predict the productivity or to classify it by stratifying the target variable"
   ]
  },
  {
   "cell_type": "markdown",
   "metadata": {},
   "source": [
    "## Libraries"
   ]
  },
  {
   "cell_type": "code",
   "execution_count": 1,
   "metadata": {},
   "outputs": [],
   "source": [
    "import matplotlib.pyplot as plt\n",
    "import seaborn as sns\n",
    "import numpy as np\n",
    "import pandas as pd\n",
    "\n",
    "\n",
    "from sklearn.model_selection import train_test_split, GridSearchCV\n",
    "\n"
   ]
  },
  {
   "cell_type": "markdown",
   "metadata": {},
   "source": [
    "## Model Development"
   ]
  },
  {
   "cell_type": "markdown",
   "metadata": {},
   "source": [
    "### Load data"
   ]
  },
  {
   "cell_type": "code",
   "execution_count": 2,
   "metadata": {},
   "outputs": [],
   "source": [
    "prod = pd.read_csv('data/garments_worker_productivity.csv')"
   ]
  },
  {
   "cell_type": "markdown",
   "metadata": {},
   "source": [
    "### EDA"
   ]
  }
 ],
 "metadata": {
  "kernelspec": {
   "display_name": "base",
   "language": "python",
   "name": "python3"
  },
  "language_info": {
   "codemirror_mode": {
    "name": "ipython",
    "version": 3
   },
   "file_extension": ".py",
   "mimetype": "text/x-python",
   "name": "python",
   "nbconvert_exporter": "python",
   "pygments_lexer": "ipython3",
   "version": "3.11.5"
  }
 },
 "nbformat": 4,
 "nbformat_minor": 2
}
